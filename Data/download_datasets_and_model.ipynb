{
 "cells": [
  {
   "cell_type": "code",
   "execution_count": null,
   "metadata": {},
   "outputs": [],
   "source": [
    "!pip install -r requirements.txt"
   ]
  },
  {
   "cell_type": "code",
   "execution_count": 1,
   "metadata": {},
   "outputs": [
    {
     "name": "stderr",
     "output_type": "stream",
     "text": [
      "Cloning into 'ICCV_2023_Datasets'...\n",
      "Updating files:  60% (3/5)\n",
      "Updating files:  80% (4/5)\n",
      "Updating files: 100% (5/5)\n",
      "Updating files: 100% (5/5), done.\n",
      "Filtering content:  50% (2/4)\n",
      "Filtering content:  50% (2/4), 389.75 MiB | 4.38 MiB/s\n",
      "Filtering content:  75% (3/4), 389.75 MiB | 4.38 MiB/s\n",
      "Filtering content:  75% (3/4), 635.12 MiB | 7.85 MiB/s\n",
      "Filtering content: 100% (4/4), 635.12 MiB | 7.85 MiB/s\n",
      "Filtering content: 100% (4/4), 1.32 GiB | 7.28 MiB/s  \n",
      "Filtering content: 100% (4/4), 1.32 GiB | 5.37 MiB/s, done.\n"
     ]
    }
   ],
   "source": [
    "!git clone https://github.com/ksj42/ICCV_2023_Datasets.git"
   ]
  },
  {
   "cell_type": "code",
   "execution_count": 2,
   "metadata": {},
   "outputs": [],
   "source": [
    "import zipfile\n",
    "zipfile.ZipFile('./ICCV_2023_Datasets/Clavicle_CT_image_datasets.zip').extractall()\n",
    "zipfile.ZipFile('./ICCV_2023_Datasets/2d_unet_model.zip').extractall('../Code/2D U-net/Segmentation_v1_15_reverse')\n",
    "zipfile.ZipFile('./ICCV_2023_Datasets/3d_unet_model.zip').extractall('../Code/3D U-net/Segmentation_v1_15_reverse')\n",
    "zipfile.ZipFile('./ICCV_2023_Datasets/3d_onet_model.zip').extractall('../Code/3D O-net/Segmentation_v1_15_reverse')"
   ]
  }
 ],
 "metadata": {
  "kernelspec": {
   "display_name": "ICCV2023",
   "language": "python",
   "name": "python3"
  },
  "language_info": {
   "codemirror_mode": {
    "name": "ipython",
    "version": 3
   },
   "file_extension": ".py",
   "mimetype": "text/x-python",
   "name": "python",
   "nbconvert_exporter": "python",
   "pygments_lexer": "ipython3",
   "version": "3.9.12"
  },
  "orig_nbformat": 4
 },
 "nbformat": 4,
 "nbformat_minor": 2
}
